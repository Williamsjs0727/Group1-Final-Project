{
 "cells": [
  {
   "cell_type": "markdown",
   "id": "7512a413",
   "metadata": {},
   "source": [
    "# NYC Apartment Search - Group 1\n",
    "\n",
    "### Purpose of the Project:\n",
    "The project uses data-driven approaches to analyze and visualize New York City apartment data, 311 complaints, and urban forestry data to help understand urban living dynamics. This analysis is intended to aid in making informed decisions about apartment rentals based on environmental and urban living conditions.\n",
    "\n",
    "### Sections and Key Functions:\n",
    "1. **Setup**\n",
    "   - Initializes the environment with necessary libraries and settings.\n",
    "\n",
    "2. **Part 1: Data Preprocessing**\n",
    "   - Functions to load and clean data from various sources (ZIP codes, 311 complaints, tree census, Zillow rent data).\n",
    "   - Quality checks and basic data explorations are conducted.\n",
    "\n",
    "3. **Part 2: Storing Data**\n",
    "   - Database setup functions to create tables and indices.\n",
    "   - Functions to convert geometries for database insertion and to insert cleaned data into a PostgreSQL database.\n",
    "   - Data retrieval functions to fetch and display samples from each database table.\n",
    "\n",
    "4. **Part 3: Understanding the Data**\n",
    "   - Functions to execute SQL queries and to extract meaningful insights from the database.\n",
    "   - Various SQL queries analyze the relationship between apartment prices, complaints, and tree census data.\n",
    "\n",
    "5. **Part 4: Visualizing the Data**\n",
    "   - Multiple visualizations to represent data insights graphically, including trends over time and spatial distributions."
   ]
  },
  {
   "cell_type": "markdown",
   "id": "09b027f5",
   "metadata": {},
   "source": [
    "## Setup"
   ]
  },
  {
   "cell_type": "code",
   "execution_count": null,
   "id": "d53f508e",
   "metadata": {},
   "outputs": [],
   "source": [
    "# Standard library imports\n",
    "import os\n",
    "import pathlib\n",
    "import subprocess\n",
    "from datetime import datetime, timedelta\n",
    "from typing import Tuple\n",
    "\n",
    "# Third-party imports\n",
    "import geopandas as gpd\n",
    "import matplotlib.pyplot as plt\n",
    "import matplotlib.animation as animation\n",
    "import pandas as pd\n",
    "import requests\n",
    "import seaborn as sns\n",
    "from sqlalchemy import create_engine\n",
    "from sqlalchemy.engine.base import Engine\n",
    "from shapely.geometry import Point\n",
    "from geoalchemy2 import Geometry, WKTElement"
   ]
  },
  {
   "cell_type": "code",
   "execution_count": null,
   "id": "93d09e57",
   "metadata": {},
   "outputs": [],
   "source": [
    "# Path configuration\n",
    "DATA_DIR = pathlib.Path(\"data\")\n",
    "ZIPCODE_DATA_FILE = DATA_DIR / \"nyc_zipcodes\" / \"nyc_zipcodes.shp\"\n",
    "ZILLOW_DATA_FILE = DATA_DIR / \"zillow_rent_data.csv\"\n",
    "QUERY_DIR = pathlib.Path(\"queries\")  # Directory for saving DB queries\n",
    "\n",
    "# API configuration\n",
    "APP_TOKEN = \"J9t5fS2TcfDISWng9WsnCdvCP\"\n",
    "COMPLAINTS_URL = 'https://data.cityofnewyork.us/resource/erm2-nwe9.geojson'\n",
    "TREES_URL = 'https://data.cityofnewyork.us/resource/uvpi-gqnh.geojson'\n",
    "\n",
    "# Database configuration\n",
    "DB_NAME = \"nyc_data\"\n",
    "DB_USER = \"williamsjs\"\n",
    "DB_URL = f\"postgresql+psycopg2://{DB_USER}@localhost/{DB_NAME}\"\n",
    "engine = create_engine(DB_URL)"
   ]
  },
  {
   "cell_type": "code",
   "execution_count": null,
   "id": "57c4c9c4",
   "metadata": {},
   "outputs": [],
   "source": [
    "def ensure_directory_exists(directory: pathlib.Path):\n",
    "    \"\"\"Ensure that a directory exists; if not, create it.\"\"\"\n",
    "    try:\n",
    "        directory.mkdir(parents=True, exist_ok=True)\n",
    "    except Exception as e:\n",
    "        print(f\"Error creating directory {directory}: {e}\")\n",
    "\n",
    "# Make sure the directories exist\n",
    "ensure_directory_exists(DATA_DIR)\n",
    "ensure_directory_exists(QUERY_DIR)"
   ]
  }
 ],
 "metadata": {
  "kernelspec": {
   "display_name": "Python 3 (ipykernel)",
   "language": "python",
   "name": "python3"
  },
  "language_info": {
   "codemirror_mode": {
    "name": "ipython",
    "version": 3
   },
   "file_extension": ".py",
   "mimetype": "text/x-python",
   "name": "python",
   "nbconvert_exporter": "python",
   "pygments_lexer": "ipython3",
   "version": "3.11.5"
  }
 },
 "nbformat": 4,
 "nbformat_minor": 5
}
